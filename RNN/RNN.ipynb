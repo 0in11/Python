{
  "nbformat": 4,
  "nbformat_minor": 0,
  "metadata": {
    "colab": {
      "provenance": [],
      "gpuType": "T4",
      "include_colab_link": true
    },
    "kernelspec": {
      "name": "python3",
      "display_name": "Python 3"
    },
    "language_info": {
      "name": "python"
    },
    "accelerator": "GPU"
  },
  "cells": [
    {
      "cell_type": "markdown",
      "metadata": {
        "id": "view-in-github",
        "colab_type": "text"
      },
      "source": [
        "<a href=\"https://colab.research.google.com/github/0in11/Python/blob/main/RNN/RNN.ipynb\" target=\"_parent\"><img src=\"https://colab.research.google.com/assets/colab-badge.svg\" alt=\"Open In Colab\"/></a>"
      ]
    },
    {
      "cell_type": "code",
      "execution_count": 3,
      "metadata": {
        "colab": {
          "base_uri": "https://localhost:8080/"
        },
        "id": "ASa4CMe9GH1X",
        "outputId": "87cd6200-596c-44b3-a561-3e48ead9ae9a"
      },
      "outputs": [
        {
          "output_type": "stream",
          "name": "stdout",
          "text": [
            "Mounted at /content/drive\n"
          ]
        }
      ],
      "source": [
        "from google.colab import drive\n",
        "drive.mount('/content/drive')"
      ]
    },
    {
      "cell_type": "code",
      "source": [
        "import os\n",
        "os.chdir('drive/MyDrive/DL202010821/RNN/')\n",
        "\n",
        "%load_ext autoreload\n",
        "%autoreload 2"
      ],
      "metadata": {
        "id": "rTkw-xzzGXh_"
      },
      "execution_count": 4,
      "outputs": []
    },
    {
      "cell_type": "code",
      "source": [
        "import numpy as np\n",
        "import tensorflow as tf\n",
        "from tensorflow.keras.models import Sequential\n",
        "from tensorflow.keras.layers import SimpleRNN, LSTM, GRU, Dense\n",
        "import matplotlib.pyplot as plt"
      ],
      "metadata": {
        "id": "iehX2TipGceU"
      },
      "execution_count": 5,
      "outputs": []
    },
    {
      "cell_type": "code",
      "source": [
        "from custom_data import signal_one, signal_two, ko_review\n",
        "from utils import plot_learning_curves, decode_imdb, sentence_to_vector"
      ],
      "metadata": {
        "id": "Ptae3B6BdlrB"
      },
      "execution_count": 6,
      "outputs": []
    },
    {
      "cell_type": "code",
      "source": [
        "X_train, y_train, X_valid, y_valid, X_test, y_test = signal_one(50)"
      ],
      "metadata": {
        "id": "k7BF_n_ad4Ck"
      },
      "execution_count": 7,
      "outputs": []
    },
    {
      "cell_type": "code",
      "source": [
        "print(X_train.shape, y_train.shape)"
      ],
      "metadata": {
        "colab": {
          "base_uri": "https://localhost:8080/"
        },
        "id": "cOQpENwFH64t",
        "outputId": "25ea8436-2eea-4029-b7d7-dbb0dcb29cf5"
      },
      "execution_count": 8,
      "outputs": [
        {
          "output_type": "stream",
          "name": "stdout",
          "text": [
            "(700, 50, 1) (700, 1)\n"
          ]
        }
      ]
    },
    {
      "cell_type": "code",
      "source": [
        "idx = 33\n",
        "plt.plot(X_train[idx].flatten())\n",
        "plt.scatter(50, y_train[idx], color = 'red')\n",
        "plt.show()"
      ],
      "metadata": {
        "colab": {
          "base_uri": "https://localhost:8080/",
          "height": 430
        },
        "id": "MsVD3O3pIFzP",
        "outputId": "fae44b25-d2f0-468f-ad7f-f1088b76ed4b"
      },
      "execution_count": 9,
      "outputs": [
        {
          "output_type": "display_data",
          "data": {
            "text/plain": [
              "<Figure size 640x480 with 1 Axes>"
            ],
            "image/png": "[encoded data removed]"
          },
          "metadata": {}
        }
      ]
    },
    {
      "cell_type": "code",
      "source": [
        "rnn_model = Sequential([\n",
        "        SimpleRNN(20, return_sequences=True, input_shape=[None, 1]),\n",
        "        SimpleRNN(20),\n",
        "        Dense(1)\n",
        "    ])\n",
        "rnn_model.compile(optimizer='adam', loss='mse')\n",
        "rnn_model.summary()"
      ],
      "metadata": {
        "colab": {
          "base_uri": "https://localhost:8080/"
        },
        "id": "DD-x1OjqGh_k",
        "outputId": "b84db3e5-ef07-4492-e510-5fa5a78608a2"
      },
      "execution_count": 10,
      "outputs": [
        {
          "output_type": "stream",
          "name": "stdout",
          "text": [
            "Model: \"sequential\"\n",
            "_________________________________________________________________\n",
            " Layer (type)                Output Shape              Param #   \n",
            "=================================================================\n",
            " simple_rnn (SimpleRNN)      (None, None, 20)          440       \n",
            "                                                                 \n",
            " simple_rnn_1 (SimpleRNN)    (None, 20)                820       \n",
            "                                                                 \n",
            " dense (Dense)               (None, 1)                 21        \n",
            "                                                                 \n",
            "=================================================================\n",
            "Total params: 1281 (5.00 KB)\n",
            "Trainable params: 1281 (5.00 KB)\n",
            "Non-trainable params: 0 (0.00 Byte)\n",
            "_________________________________________________________________\n"
          ]
        }
      ]
    },
    {
      "cell_type": "code",
      "source": [
        "rnn_history = rnn_model.fit(X_train, y_train, epochs=10, validation_data=(X_valid, y_valid))"
      ],
      "metadata": {
        "colab": {
          "base_uri": "https://localhost:8080/"
        },
        "id": "1exQY_s4JgpQ",
        "outputId": "c4cf51ac-79ec-4ad4-830e-9fb7e92594af"
      },
      "execution_count": 11,
      "outputs": [
        {
          "output_type": "stream",
          "name": "stdout",
          "text": [
            "Epoch 1/10\n",
            "22/22 [==============================] - 8s 158ms/step - loss: 0.2729 - val_loss: 0.1095\n",
            "Epoch 2/10\n",
            "22/22 [==============================] - 2s 75ms/step - loss: 0.0627 - val_loss: 0.0355\n",
            "Epoch 3/10\n",
            "22/22 [==============================] - 2s 75ms/step - loss: 0.0257 - val_loss: 0.0222\n",
            "Epoch 4/10\n",
            "22/22 [==============================] - 2s 75ms/step - loss: 0.0167 - val_loss: 0.0146\n",
            "Epoch 5/10\n",
            "22/22 [==============================] - 2s 79ms/step - loss: 0.0125 - val_loss: 0.0105\n",
            "Epoch 6/10\n",
            "22/22 [==============================] - 2s 79ms/step - loss: 0.0098 - val_loss: 0.0085\n",
            "Epoch 7/10\n",
            "22/22 [==============================] - 2s 113ms/step - loss: 0.0080 - val_loss: 0.0076\n",
            "Epoch 8/10\n",
            "22/22 [==============================] - 3s 147ms/step - loss: 0.0070 - val_loss: 0.0063\n",
            "Epoch 9/10\n",
            "22/22 [==============================] - 2s 79ms/step - loss: 0.0063 - val_loss: 0.0056\n",
            "Epoch 10/10\n",
            "22/22 [==============================] - 2s 79ms/step - loss: 0.0057 - val_loss: 0.0054\n"
          ]
        }
      ]
    },
    {
      "cell_type": "code",
      "source": [
        "lstm_model = Sequential([\n",
        "    ## 아래 모델 채우기 (RNN과 동일한 크기와 출력 사용)\n",
        "          LSTM(20, return_sequences=True, input_shape=[None,1]),\n",
        "          LSTM(20),\n",
        "          Dense(1)\n",
        "    ])\n",
        "lstm_model.compile(optimizer='adam', loss='mse')\n",
        "lstm_model.summary()"
      ],
      "metadata": {
        "colab": {
          "base_uri": "https://localhost:8080/"
        },
        "id": "6LiS9XtEJTn_",
        "outputId": "e07d3613-86cc-4449-9f92-c45f85ba06d0"
      },
      "execution_count": 13,
      "outputs": [
        {
          "output_type": "stream",
          "name": "stdout",
          "text": [
            "Model: \"sequential_1\"\n",
            "_________________________________________________________________\n",
            " Layer (type)                Output Shape              Param #   \n",
            "=================================================================\n",
            " lstm_2 (LSTM)               (None, None, 20)          1760      \n",
            "                                                                 \n",
            " lstm_3 (LSTM)               (None, 20)                3280      \n",
            "                                                                 \n",
            " dense_1 (Dense)             (None, 1)                 21        \n",
            "                                                                 \n",
            "=================================================================\n",
            "Total params: 5061 (19.77 KB)\n",
            "Trainable params: 5061 (19.77 KB)\n",
            "Non-trainable params: 0 (0.00 Byte)\n",
            "_________________________________________________________________\n"
          ]
        }
      ]
    },
    {
      "cell_type": "code",
      "source": [
        "lstm_history = lstm_model.fit(X_train, y_train, epochs=10, validation_data=(X_valid, y_valid))"
      ],
      "metadata": {
        "colab": {
          "base_uri": "https://localhost:8080/"
        },
        "id": "k9Gos92ZJc-z",
        "outputId": "c390b333-6b70-4d26-cc4c-2cc7f68c96a2"
      },
      "execution_count": 15,
      "outputs": [
        {
          "output_type": "stream",
          "name": "stdout",
          "text": [
            "Epoch 1/10\n",
            "22/22 [==============================] - 4s 43ms/step - loss: 0.1257 - val_loss: 0.0971\n",
            "Epoch 2/10\n",
            "22/22 [==============================] - 0s 10ms/step - loss: 0.0691 - val_loss: 0.0527\n",
            "Epoch 3/10\n",
            "22/22 [==============================] - 0s 10ms/step - loss: 0.0471 - val_loss: 0.0461\n",
            "Epoch 4/10\n",
            "22/22 [==============================] - 0s 10ms/step - loss: 0.0422 - val_loss: 0.0434\n",
            "Epoch 5/10\n",
            "22/22 [==============================] - 0s 10ms/step - loss: 0.0404 - val_loss: 0.0427\n",
            "Epoch 6/10\n",
            "22/22 [==============================] - 0s 12ms/step - loss: 0.0397 - val_loss: 0.0393\n",
            "Epoch 7/10\n",
            "22/22 [==============================] - 0s 15ms/step - loss: 0.0377 - val_loss: 0.0387\n",
            "Epoch 8/10\n",
            "22/22 [==============================] - 0s 15ms/step - loss: 0.0367 - val_loss: 0.0370\n",
            "Epoch 9/10\n",
            "22/22 [==============================] - 0s 15ms/step - loss: 0.0327 - val_loss: 0.0327\n",
            "Epoch 10/10\n",
            "22/22 [==============================] - 0s 12ms/step - loss: 0.0292 - val_loss: 0.0275\n"
          ]
        }
      ]
    },
    {
      "cell_type": "code",
      "source": [
        "gru_model = Sequential([\n",
        "        ## 아래 모델 채우기 (RNN과 동일한 크기와 출력 사용)\n",
        "        GRU(20, return_sequences=True, input_shape=[None,1]),\n",
        "        GRU(20),\n",
        "        Dense(1)\n",
        "    ])\n",
        "gru_model.compile(optimizer='adam', loss='mse')\n",
        "gru_model.summary()"
      ],
      "metadata": {
        "colab": {
          "base_uri": "https://localhost:8080/"
        },
        "id": "KS_ZZ7mdJ6tU",
        "outputId": "3aab4f89-c3e0-4430-a168-579a3fe8347d"
      },
      "execution_count": 14,
      "outputs": [
        {
          "output_type": "stream",
          "name": "stdout",
          "text": [
            "Model: \"sequential_2\"\n",
            "_________________________________________________________________\n",
            " Layer (type)                Output Shape              Param #   \n",
            "=================================================================\n",
            " gru (GRU)                   (None, None, 20)          1380      \n",
            "                                                                 \n",
            " gru_1 (GRU)                 (None, 20)                2520      \n",
            "                                                                 \n",
            " dense_2 (Dense)             (None, 1)                 21        \n",
            "                                                                 \n",
            "=================================================================\n",
            "Total params: 3921 (15.32 KB)\n",
            "Trainable params: 3921 (15.32 KB)\n",
            "Non-trainable params: 0 (0.00 Byte)\n",
            "_________________________________________________________________\n"
          ]
        }
      ]
    },
    {
      "cell_type": "code",
      "source": [
        "gru_history = gru_model.fit(X_train, y_train, epochs=10, validation_data=(X_valid, y_valid))"
      ],
      "metadata": {
        "colab": {
          "base_uri": "https://localhost:8080/"
        },
        "id": "GJHWVtESJ-0s",
        "outputId": "aaace5c6-d542-42f8-8932-dbdfca51f864"
      },
      "execution_count": 16,
      "outputs": [
        {
          "output_type": "stream",
          "name": "stdout",
          "text": [
            "Epoch 1/10\n",
            "22/22 [==============================] - 5s 40ms/step - loss: 0.1447 - val_loss: 0.1108\n",
            "Epoch 2/10\n",
            "22/22 [==============================] - 0s 10ms/step - loss: 0.0863 - val_loss: 0.0546\n",
            "Epoch 3/10\n",
            "22/22 [==============================] - 0s 10ms/step - loss: 0.0389 - val_loss: 0.0279\n",
            "Epoch 4/10\n",
            "22/22 [==============================] - 0s 12ms/step - loss: 0.0289 - val_loss: 0.0250\n",
            "Epoch 5/10\n",
            "22/22 [==============================] - 0s 11ms/step - loss: 0.0257 - val_loss: 0.0228\n",
            "Epoch 6/10\n",
            "22/22 [==============================] - 0s 12ms/step - loss: 0.0238 - val_loss: 0.0206\n",
            "Epoch 7/10\n",
            "22/22 [==============================] - 0s 11ms/step - loss: 0.0216 - val_loss: 0.0187\n",
            "Epoch 8/10\n",
            "22/22 [==============================] - 0s 9ms/step - loss: 0.0192 - val_loss: 0.0162\n",
            "Epoch 9/10\n",
            "22/22 [==============================] - 0s 9ms/step - loss: 0.0171 - val_loss: 0.0144\n",
            "Epoch 10/10\n",
            "22/22 [==============================] - 0s 9ms/step - loss: 0.0148 - val_loss: 0.0124\n"
          ]
        }
      ]
    },
    {
      "cell_type": "code",
      "source": [
        "plot_learning_curves(rnn_history, \"Simple RNN\")\n",
        "plot_learning_curves(lstm_history, \"LSTM\")\n",
        "plot_learning_curves(gru_history, \"GRU\")"
      ],
      "metadata": {
        "colab": {
          "base_uri": "https://localhost:8080/",
          "height": 1000
        },
        "id": "6AjOQRgeKWfh",
        "outputId": "f4b8fed1-3bc5-47da-9db8-ef2bbc95ece8"
      },
      "execution_count": 17,
      "outputs": [
        {
          "output_type": "display_data",
          "data": {
            "text/plain": [
              "<Figure size 640x480 with 1 Axes>"
            ],
            "image/png": "[encoded data removed]"
          },
          "metadata": {}
        },
        {
          "output_type": "display_data",
          "data": {
            "text/plain": [
              "<Figure size 640x480 with 1 Axes>"
            ],
            "image/png": "[encoded data removed]"
          },
          "metadata": {}
        },
        {
          "output_type": "display_data",
          "data": {
            "text/plain": [
              "<Figure size 640x480 with 1 Axes>"
            ],
            "image/png": "[encoded data removed]"
          },
          "metadata": {}
        }
      ]
    },
    {
      "cell_type": "code",
      "source": [
        "X_data, y_data = signal_two()"
      ],
      "metadata": {
        "id": "-SUei25JQdDN"
      },
      "execution_count": 18,
      "outputs": []
    },
    {
      "cell_type": "code",
      "source": [
        "X_data.shape, y_data.shape"
      ],
      "metadata": {
        "colab": {
          "base_uri": "https://localhost:8080/"
        },
        "id": "ooZkHRU0O_il",
        "outputId": "215bc33f-3215-4f30-d702-72734f76f670"
      },
      "execution_count": 19,
      "outputs": [
        {
          "output_type": "execute_result",
          "data": {
            "text/plain": [
              "((2500, 100, 2), (2500,))"
            ]
          },
          "metadata": {},
          "execution_count": 19
        }
      ]
    },
    {
      "cell_type": "code",
      "source": [
        "rnn_model = Sequential([\n",
        "        ## hidden node 30개\n",
        "        ## input size [100, 2]\n",
        "        ## 2개 층 사용\n",
        "        ## 마지막 출력층은 단일 출력\n",
        "        SimpleRNN(30, return_sequences=True, input_shape=[100,2]),\n",
        "        SimpleRNN(30),\n",
        "        Dense(1)\n",
        "    ])\n",
        "rnn_model.compile(optimizer='adam', loss='mse')\n",
        "rnn_model.summary()\n",
        "\n",
        "rnn_history = rnn_model.fit(X_data, y_data, epochs=100, validation_split=0.2)"
      ],
      "metadata": {
        "colab": {
          "base_uri": "https://localhost:8080/"
        },
        "id": "NrU-Abq0MBnX",
        "outputId": "97ac7f4d-2a5f-4dc3-c155-3f0955a0d09a"
      },
      "execution_count": 21,
      "outputs": [
        {
          "output_type": "stream",
          "name": "stdout",
          "text": [
            "Model: \"sequential_4\"\n",
            "_________________________________________________________________\n",
            " Layer (type)                Output Shape              Param #   \n",
            "=================================================================\n",
            " simple_rnn_2 (SimpleRNN)    (None, 100, 30)           990       \n",
            "                                                                 \n",
            " simple_rnn_3 (SimpleRNN)    (None, 30)                1830      \n",
            "                                                                 \n",
            " dense_3 (Dense)             (None, 1)                 31        \n",
            "                                                                 \n",
            "=================================================================\n",
            "Total params: 2851 (11.14 KB)\n",
            "Trainable params: 2851 (11.14 KB)\n",
            "Non-trainable params: 0 (0.00 Byte)\n",
            "_________________________________________________________________\n",
            "Epoch 1/100\n",
            "63/63 [==============================] - 13s 164ms/step - loss: 0.0778 - val_loss: 0.0549\n",
            "Epoch 2/100\n",
            "63/63 [==============================] - 11s 179ms/step - loss: 0.0492 - val_loss: 0.0507\n",
            "Epoch 3/100\n",
            "63/63 [==============================] - 12s 199ms/step - loss: 0.0480 - val_loss: 0.0483\n",
            "Epoch 4/100\n",
            "63/63 [==============================] - 15s 237ms/step - loss: 0.0475 - val_loss: 0.0487\n",
            "Epoch 5/100\n",
            "63/63 [==============================] - 13s 201ms/step - loss: 0.0480 - val_loss: 0.0504\n",
            "Epoch 6/100\n",
            "63/63 [==============================] - 16s 253ms/step - loss: 0.0474 - val_loss: 0.0486\n",
            "Epoch 7/100\n",
            "63/63 [==============================] - 10s 164ms/step - loss: 0.0474 - val_loss: 0.0485\n",
            "Epoch 8/100\n",
            "63/63 [==============================] - 9s 148ms/step - loss: 0.0473 - val_loss: 0.0535\n",
            "Epoch 9/100\n",
            "63/63 [==============================] - 11s 180ms/step - loss: 0.0496 - val_loss: 0.0486\n",
            "Epoch 10/100\n",
            "63/63 [==============================] - 11s 174ms/step - loss: 0.0470 - val_loss: 0.0516\n",
            "Epoch 11/100\n",
            "63/63 [==============================] - 11s 168ms/step - loss: 0.0467 - val_loss: 0.0482\n",
            "Epoch 12/100\n",
            "63/63 [==============================] - 9s 145ms/step - loss: 0.0470 - val_loss: 0.0481\n",
            "Epoch 13/100\n",
            "63/63 [==============================] - 11s 183ms/step - loss: 0.0470 - val_loss: 0.0499\n",
            "Epoch 14/100\n",
            "63/63 [==============================] - 11s 182ms/step - loss: 0.0464 - val_loss: 0.0482\n",
            "Epoch 15/100\n",
            "63/63 [==============================] - 11s 182ms/step - loss: 0.0461 - val_loss: 0.0511\n",
            "Epoch 16/100\n",
            "63/63 [==============================] - 9s 145ms/step - loss: 0.0479 - val_loss: 0.0511\n",
            "Epoch 17/100\n",
            "63/63 [==============================] - 12s 188ms/step - loss: 0.0461 - val_loss: 0.0528\n",
            "Epoch 18/100\n",
            "63/63 [==============================] - 11s 176ms/step - loss: 0.0461 - val_loss: 0.0490\n",
            "Epoch 19/100\n",
            "63/63 [==============================] - 11s 177ms/step - loss: 0.0460 - val_loss: 0.0573\n",
            "Epoch 20/100\n",
            "63/63 [==============================] - 9s 143ms/step - loss: 0.0460 - val_loss: 0.0497\n",
            "Epoch 21/100\n",
            "63/63 [==============================] - 11s 179ms/step - loss: 0.0458 - val_loss: 0.0504\n",
            "Epoch 22/100\n",
            "63/63 [==============================] - 11s 180ms/step - loss: 0.0462 - val_loss: 0.0515\n",
            "Epoch 23/100\n",
            "63/63 [==============================] - 12s 185ms/step - loss: 0.0480 - val_loss: 0.0513\n",
            "Epoch 24/100\n",
            "63/63 [==============================] - 9s 142ms/step - loss: 0.0455 - val_loss: 0.0491\n",
            "Epoch 25/100\n",
            "63/63 [==============================] - 11s 178ms/step - loss: 0.0466 - val_loss: 0.0526\n",
            "Epoch 26/100\n",
            "63/63 [==============================] - 11s 180ms/step - loss: 0.0450 - val_loss: 0.0493\n",
            "Epoch 27/100\n",
            "63/63 [==============================] - 11s 179ms/step - loss: 0.0449 - val_loss: 0.0507\n",
            "Epoch 28/100\n",
            "63/63 [==============================] - 9s 142ms/step - loss: 0.0448 - val_loss: 0.0496\n",
            "Epoch 29/100\n",
            "63/63 [==============================] - 11s 179ms/step - loss: 0.0450 - val_loss: 0.0498\n",
            "Epoch 30/100\n",
            "63/63 [==============================] - 11s 180ms/step - loss: 0.0448 - val_loss: 0.0494\n",
            "Epoch 31/100\n",
            "63/63 [==============================] - 11s 175ms/step - loss: 0.0438 - val_loss: 0.0499\n",
            "Epoch 32/100\n",
            "63/63 [==============================] - 9s 146ms/step - loss: 0.0433 - val_loss: 0.0520\n",
            "Epoch 33/100\n",
            "63/63 [==============================] - 11s 176ms/step - loss: 0.0436 - val_loss: 0.0537\n",
            "Epoch 34/100\n",
            "63/63 [==============================] - 11s 178ms/step - loss: 0.0433 - val_loss: 0.0497\n",
            "Epoch 35/100\n",
            "63/63 [==============================] - 11s 178ms/step - loss: 0.0433 - val_loss: 0.0494\n",
            "Epoch 36/100\n",
            "63/63 [==============================] - 9s 144ms/step - loss: 0.0430 - val_loss: 0.0492\n",
            "Epoch 37/100\n",
            "63/63 [==============================] - 11s 179ms/step - loss: 0.0426 - val_loss: 0.0504\n",
            "Epoch 38/100\n",
            "63/63 [==============================] - 11s 179ms/step - loss: 0.0414 - val_loss: 0.0525\n",
            "Epoch 39/100\n",
            "63/63 [==============================] - 11s 174ms/step - loss: 0.0417 - val_loss: 0.0514\n",
            "Epoch 40/100\n",
            "63/63 [==============================] - 9s 142ms/step - loss: 0.0440 - val_loss: 0.0534\n",
            "Epoch 41/100\n",
            "63/63 [==============================] - 11s 177ms/step - loss: 0.0408 - val_loss: 0.0507\n",
            "Epoch 42/100\n",
            "63/63 [==============================] - 11s 174ms/step - loss: 0.0408 - val_loss: 0.0497\n",
            "Epoch 43/100\n",
            "63/63 [==============================] - 11s 176ms/step - loss: 0.0410 - val_loss: 0.0538\n",
            "Epoch 44/100\n",
            "63/63 [==============================] - 9s 142ms/step - loss: 0.0403 - val_loss: 0.0508\n",
            "Epoch 45/100\n",
            "63/63 [==============================] - 11s 175ms/step - loss: 0.0408 - val_loss: 0.0523\n",
            "Epoch 46/100\n",
            "63/63 [==============================] - 11s 179ms/step - loss: 0.0394 - val_loss: 0.0521\n",
            "Epoch 47/100\n",
            "63/63 [==============================] - 11s 178ms/step - loss: 0.0404 - val_loss: 0.0524\n",
            "Epoch 48/100\n",
            "63/63 [==============================] - 9s 150ms/step - loss: 0.0391 - val_loss: 0.0527\n",
            "Epoch 49/100\n",
            "63/63 [==============================] - 11s 168ms/step - loss: 0.0399 - val_loss: 0.0510\n",
            "Epoch 50/100\n",
            "63/63 [==============================] - 11s 178ms/step - loss: 0.0395 - val_loss: 0.0536\n",
            "Epoch 51/100\n",
            "63/63 [==============================] - 11s 180ms/step - loss: 0.0392 - val_loss: 0.0540\n",
            "Epoch 52/100\n",
            "63/63 [==============================] - 10s 160ms/step - loss: 0.0386 - val_loss: 0.0523\n",
            "Epoch 53/100\n",
            "63/63 [==============================] - 10s 162ms/step - loss: 0.0382 - val_loss: 0.0545\n",
            "Epoch 54/100\n",
            "63/63 [==============================] - 11s 176ms/step - loss: 0.0379 - val_loss: 0.0537\n",
            "Epoch 55/100\n",
            "63/63 [==============================] - 11s 178ms/step - loss: 0.0369 - val_loss: 0.0532\n",
            "Epoch 56/100\n",
            "63/63 [==============================] - 11s 170ms/step - loss: 0.0372 - val_loss: 0.0539\n",
            "Epoch 57/100\n",
            "63/63 [==============================] - 9s 144ms/step - loss: 0.0361 - val_loss: 0.0533\n",
            "Epoch 58/100\n",
            "63/63 [==============================] - 11s 179ms/step - loss: 0.0357 - val_loss: 0.0543\n",
            "Epoch 59/100\n",
            "63/63 [==============================] - 11s 174ms/step - loss: 0.0356 - val_loss: 0.0547\n",
            "Epoch 60/100\n",
            "63/63 [==============================] - 10s 163ms/step - loss: 0.0357 - val_loss: 0.0610\n",
            "Epoch 61/100\n",
            "63/63 [==============================] - 9s 147ms/step - loss: 0.0356 - val_loss: 0.0556\n",
            "Epoch 62/100\n",
            "63/63 [==============================] - 11s 172ms/step - loss: 0.0342 - val_loss: 0.0557\n",
            "Epoch 63/100\n",
            "63/63 [==============================] - 11s 174ms/step - loss: 0.0350 - val_loss: 0.0565\n",
            "Epoch 64/100\n",
            "63/63 [==============================] - 10s 166ms/step - loss: 0.0336 - val_loss: 0.0583\n",
            "Epoch 65/100\n",
            "63/63 [==============================] - 9s 145ms/step - loss: 0.0333 - val_loss: 0.0590\n",
            "Epoch 66/100\n",
            "63/63 [==============================] - 11s 174ms/step - loss: 0.0339 - val_loss: 0.0567\n",
            "Epoch 67/100\n",
            "63/63 [==============================] - 11s 177ms/step - loss: 0.0326 - val_loss: 0.0581\n",
            "Epoch 68/100\n",
            "63/63 [==============================] - 11s 169ms/step - loss: 0.0327 - val_loss: 0.0613\n",
            "Epoch 69/100\n",
            "63/63 [==============================] - 9s 143ms/step - loss: 0.0318 - val_loss: 0.0596\n",
            "Epoch 70/100\n",
            "63/63 [==============================] - 11s 175ms/step - loss: 0.0328 - val_loss: 0.0628\n",
            "Epoch 71/100\n",
            "63/63 [==============================] - 11s 174ms/step - loss: 0.0326 - val_loss: 0.0582\n",
            "Epoch 72/100\n",
            "63/63 [==============================] - 11s 169ms/step - loss: 0.0297 - val_loss: 0.0552\n",
            "Epoch 73/100\n",
            "63/63 [==============================] - 9s 144ms/step - loss: 0.0302 - val_loss: 0.0586\n",
            "Epoch 74/100\n",
            "63/63 [==============================] - 11s 173ms/step - loss: 0.0305 - val_loss: 0.0603\n",
            "Epoch 75/100\n",
            "63/63 [==============================] - 11s 175ms/step - loss: 0.0309 - val_loss: 0.0572\n",
            "Epoch 76/100\n",
            "63/63 [==============================] - 10s 163ms/step - loss: 0.0302 - val_loss: 0.0636\n",
            "Epoch 77/100\n",
            "63/63 [==============================] - 10s 151ms/step - loss: 0.0296 - val_loss: 0.0622\n",
            "Epoch 78/100\n",
            "63/63 [==============================] - 11s 175ms/step - loss: 0.0298 - val_loss: 0.0637\n",
            "Epoch 79/100\n",
            "63/63 [==============================] - 11s 175ms/step - loss: 0.0282 - val_loss: 0.0607\n",
            "Epoch 80/100\n",
            "63/63 [==============================] - 10s 156ms/step - loss: 0.0280 - val_loss: 0.0615\n",
            "Epoch 81/100\n",
            "63/63 [==============================] - 10s 155ms/step - loss: 0.0286 - val_loss: 0.0651\n",
            "Epoch 82/100\n",
            "63/63 [==============================] - 11s 169ms/step - loss: 0.0275 - val_loss: 0.0612\n",
            "Epoch 83/100\n",
            "63/63 [==============================] - 11s 173ms/step - loss: 0.0267 - val_loss: 0.0644\n",
            "Epoch 84/100\n",
            "63/63 [==============================] - 10s 151ms/step - loss: 0.0265 - val_loss: 0.0602\n",
            "Epoch 85/100\n",
            "63/63 [==============================] - 10s 157ms/step - loss: 0.0273 - val_loss: 0.0633\n",
            "Epoch 86/100\n",
            "63/63 [==============================] - 11s 173ms/step - loss: 0.0269 - val_loss: 0.0587\n",
            "Epoch 87/100\n",
            "63/63 [==============================] - 11s 171ms/step - loss: 0.0265 - val_loss: 0.0666\n",
            "Epoch 88/100\n",
            "63/63 [==============================] - 9s 142ms/step - loss: 0.0257 - val_loss: 0.0594\n",
            "Epoch 89/100\n",
            "63/63 [==============================] - 10s 165ms/step - loss: 0.0274 - val_loss: 0.0623\n",
            "Epoch 90/100\n",
            "63/63 [==============================] - 11s 172ms/step - loss: 0.0262 - val_loss: 0.0627\n",
            "Epoch 91/100\n",
            "63/63 [==============================] - 11s 177ms/step - loss: 0.0244 - val_loss: 0.0614\n",
            "Epoch 92/100\n",
            "63/63 [==============================] - 9s 144ms/step - loss: 0.0239 - val_loss: 0.0605\n",
            "Epoch 93/100\n",
            "63/63 [==============================] - 11s 174ms/step - loss: 0.0235 - val_loss: 0.0635\n",
            "Epoch 94/100\n",
            "63/63 [==============================] - 11s 176ms/step - loss: 0.0244 - val_loss: 0.0627\n",
            "Epoch 95/100\n",
            "63/63 [==============================] - 11s 178ms/step - loss: 0.0238 - val_loss: 0.0611\n",
            "Epoch 96/100\n",
            "63/63 [==============================] - 9s 143ms/step - loss: 0.0234 - val_loss: 0.0657\n",
            "Epoch 97/100\n",
            "63/63 [==============================] - 11s 170ms/step - loss: 0.0235 - val_loss: 0.0602\n",
            "Epoch 98/100\n",
            "63/63 [==============================] - 11s 179ms/step - loss: 0.0231 - val_loss: 0.0645\n",
            "Epoch 99/100\n",
            "63/63 [==============================] - 11s 178ms/step - loss: 0.0230 - val_loss: 0.0676\n",
            "Epoch 100/100\n",
            "63/63 [==============================] - 10s 154ms/step - loss: 0.0230 - val_loss: 0.0648\n"
          ]
        }
      ]
    },
    {
      "cell_type": "code",
      "source": [
        "plot_learning_curves(rnn_history, \"Simple RNN\")"
      ],
      "metadata": {
        "id": "NagUYByuNW2N"
      },
      "execution_count": null,
      "outputs": []
    },
    {
      "cell_type": "code",
      "source": [
        "lstm_model = Sequential([\n",
        "        ## hidden node 30개\n",
        "        ## input size [100, 2]\n",
        "        ## 2개 층 사용\n",
        "        ## 마지막 출력층은 단일 출력\n",
        "        LSTM(30, return_sequences=True, input_shape=[100,2]),\n",
        "        LSTM(30),\n",
        "        LSTM(1)\n",
        "    ])\n",
        "lstm_model.compile(optimizer='adam', loss='mse')\n",
        "lstm_model.summary()\n",
        "\n",
        "lstm_history = lstm_model.fit(X_data, y_data, epochs=100, validation_split=0.2)"
      ],
      "metadata": {
        "colab": {
          "base_uri": "https://localhost:8080/",
          "height": 365
        },
        "id": "VtoVihAMJ07n",
        "outputId": "5a8a484c-0504-448e-f59f-5d569368671e"
      },
      "execution_count": 25,
      "outputs": [
        {
          "output_type": "error",
          "ename": "ValueError",
          "evalue": "Input 0 of layer \"lstm_9\" is incompatible with the layer: expected ndim=3, found ndim=2. Full shape received: (None, 30)",
          "traceback": [
            "\u001b[0;31m---------------------------------------------------------------------------\u001b[0m",
            "\u001b[0;31mValueError\u001b[0m                                Traceback (most recent call last)",
            "\u001b[0;32m<ipython-input-25-4e678b15e57f>\u001b[0m in \u001b[0;36m<cell line: 1>\u001b[0;34m()\u001b[0m\n\u001b[0;32m----> 1\u001b[0;31m lstm_model = Sequential([\n\u001b[0m\u001b[1;32m      2\u001b[0m         \u001b[0;31m## hidden node 30개\u001b[0m\u001b[0;34m\u001b[0m\u001b[0;34m\u001b[0m\u001b[0m\n\u001b[1;32m      3\u001b[0m         \u001b[0;31m## input size [100, 2]\u001b[0m\u001b[0;34m\u001b[0m\u001b[0;34m\u001b[0m\u001b[0m\n\u001b[1;32m      4\u001b[0m         \u001b[0;31m## 2개 층 사용\u001b[0m\u001b[0;34m\u001b[0m\u001b[0;34m\u001b[0m\u001b[0m\n\u001b[1;32m      5\u001b[0m         \u001b[0;31m## 마지막 출력층은 단일 출력\u001b[0m\u001b[0;34m\u001b[0m\u001b[0;34m\u001b[0m\u001b[0m\n",
            "\u001b[0;32m/usr/local/lib/python3.10/dist-packages/tensorflow/python/trackable/base.py\u001b[0m in \u001b[0;36m_method_wrapper\u001b[0;34m(self, *args, **kwargs)\u001b[0m\n\u001b[1;32m    202\u001b[0m     \u001b[0mself\u001b[0m\u001b[0;34m.\u001b[0m\u001b[0m_self_setattr_tracking\u001b[0m \u001b[0;34m=\u001b[0m \u001b[0;32mFalse\u001b[0m  \u001b[0;31m# pylint: disable=protected-access\u001b[0m\u001b[0;34m\u001b[0m\u001b[0;34m\u001b[0m\u001b[0m\n\u001b[1;32m    203\u001b[0m     \u001b[0;32mtry\u001b[0m\u001b[0;34m:\u001b[0m\u001b[0;34m\u001b[0m\u001b[0;34m\u001b[0m\u001b[0m\n\u001b[0;32m--> 204\u001b[0;31m       \u001b[0mresult\u001b[0m \u001b[0;34m=\u001b[0m \u001b[0mmethod\u001b[0m\u001b[0;34m(\u001b[0m\u001b[0mself\u001b[0m\u001b[0;34m,\u001b[0m \u001b[0;34m*\u001b[0m\u001b[0margs\u001b[0m\u001b[0;34m,\u001b[0m \u001b[0;34m**\u001b[0m\u001b[0mkwargs\u001b[0m\u001b[0;34m)\u001b[0m\u001b[0;34m\u001b[0m\u001b[0;34m\u001b[0m\u001b[0m\n\u001b[0m\u001b[1;32m    205\u001b[0m     \u001b[0;32mfinally\u001b[0m\u001b[0;34m:\u001b[0m\u001b[0;34m\u001b[0m\u001b[0;34m\u001b[0m\u001b[0m\n\u001b[1;32m    206\u001b[0m       \u001b[0mself\u001b[0m\u001b[0;34m.\u001b[0m\u001b[0m_self_setattr_tracking\u001b[0m \u001b[0;34m=\u001b[0m \u001b[0mprevious_value\u001b[0m  \u001b[0;31m# pylint: disable=protected-access\u001b[0m\u001b[0;34m\u001b[0m\u001b[0;34m\u001b[0m\u001b[0m\n",
            "\u001b[0;32m/usr/local/lib/python3.10/dist-packages/keras/src/utils/traceback_utils.py\u001b[0m in \u001b[0;36merror_handler\u001b[0;34m(*args, **kwargs)\u001b[0m\n\u001b[1;32m     68\u001b[0m             \u001b[0;31m# To get the full stack trace, call:\u001b[0m\u001b[0;34m\u001b[0m\u001b[0;34m\u001b[0m\u001b[0m\n\u001b[1;32m     69\u001b[0m             \u001b[0;31m# `tf.debugging.disable_traceback_filtering()`\u001b[0m\u001b[0;34m\u001b[0m\u001b[0;34m\u001b[0m\u001b[0m\n\u001b[0;32m---> 70\u001b[0;31m             \u001b[0;32mraise\u001b[0m \u001b[0me\u001b[0m\u001b[0;34m.\u001b[0m\u001b[0mwith_traceback\u001b[0m\u001b[0;34m(\u001b[0m\u001b[0mfiltered_tb\u001b[0m\u001b[0;34m)\u001b[0m \u001b[0;32mfrom\u001b[0m \u001b[0;32mNone\u001b[0m\u001b[0;34m\u001b[0m\u001b[0;34m\u001b[0m\u001b[0m\n\u001b[0m\u001b[1;32m     71\u001b[0m         \u001b[0;32mfinally\u001b[0m\u001b[0;34m:\u001b[0m\u001b[0;34m\u001b[0m\u001b[0;34m\u001b[0m\u001b[0m\n\u001b[1;32m     72\u001b[0m             \u001b[0;32mdel\u001b[0m \u001b[0mfiltered_tb\u001b[0m\u001b[0;34m\u001b[0m\u001b[0;34m\u001b[0m\u001b[0m\n",
            "\u001b[0;32m/usr/local/lib/python3.10/dist-packages/keras/src/engine/input_spec.py\u001b[0m in \u001b[0;36massert_input_compatibility\u001b[0;34m(input_spec, inputs, layer_name)\u001b[0m\n\u001b[1;32m    233\u001b[0m             \u001b[0mndim\u001b[0m \u001b[0;34m=\u001b[0m \u001b[0mshape\u001b[0m\u001b[0;34m.\u001b[0m\u001b[0mrank\u001b[0m\u001b[0;34m\u001b[0m\u001b[0;34m\u001b[0m\u001b[0m\n\u001b[1;32m    234\u001b[0m             \u001b[0;32mif\u001b[0m \u001b[0mndim\u001b[0m \u001b[0;34m!=\u001b[0m \u001b[0mspec\u001b[0m\u001b[0;34m.\u001b[0m\u001b[0mndim\u001b[0m\u001b[0;34m:\u001b[0m\u001b[0;34m\u001b[0m\u001b[0;34m\u001b[0m\u001b[0m\n\u001b[0;32m--> 235\u001b[0;31m                 raise ValueError(\n\u001b[0m\u001b[1;32m    236\u001b[0m                     \u001b[0;34mf'Input {input_index} of layer \"{layer_name}\" '\u001b[0m\u001b[0;34m\u001b[0m\u001b[0;34m\u001b[0m\u001b[0m\n\u001b[1;32m    237\u001b[0m                     \u001b[0;34m\"is incompatible with the layer: \"\u001b[0m\u001b[0;34m\u001b[0m\u001b[0;34m\u001b[0m\u001b[0m\n",
            "\u001b[0;31mValueError\u001b[0m: Input 0 of layer \"lstm_9\" is incompatible with the layer: expected ndim=3, found ndim=2. Full shape received: (None, 30)"
          ]
        }
      ]
    },
    {
      "cell_type": "code",
      "source": [
        "plot_learning_curves(lstm_history, \"LSTM\")"
      ],
      "metadata": {
        "colab": {
          "base_uri": "https://localhost:8080/",
          "height": 617
        },
        "id": "GE8dZrMkS_Td",
        "outputId": "268afdfe-f7ff-4eba-8d4a-339481d0c41c"
      },
      "execution_count": 28,
      "outputs": [
        {
          "output_type": "display_data",
          "data": {
            "text/plain": [
              "<Figure size 640x480 with 1 Axes>"
            ],
            "image/png": "[encoded data removed]"
          },
          "metadata": {}
        },
        {
          "output_type": "error",
          "ename": "NameError",
          "evalue": "name 'plot' is not defined",
          "traceback": [
            "\u001b[0;31m---------------------------------------------------------------------------\u001b[0m",
            "\u001b[0;31mNameError\u001b[0m                                 Traceback (most recent call last)",
            "\u001b[0;32m<ipython-input-28-fcc4976772dd>\u001b[0m in \u001b[0;36m<cell line: 2>\u001b[0;34m()\u001b[0m\n\u001b[1;32m      1\u001b[0m \u001b[0mplot_learning_curves\u001b[0m\u001b[0;34m(\u001b[0m\u001b[0mlstm_history\u001b[0m\u001b[0;34m,\u001b[0m \u001b[0;34m\"LSTM\"\u001b[0m\u001b[0;34m)\u001b[0m\u001b[0;34m\u001b[0m\u001b[0;34m\u001b[0m\u001b[0m\n\u001b[0;32m----> 2\u001b[0;31m \u001b[0mplot\u001b[0m\u001b[0;34m.\u001b[0m\u001b[0mlegend\u001b[0m\u001b[0;34m(\u001b[0m\u001b[0;34m)\u001b[0m\u001b[0;34m\u001b[0m\u001b[0;34m\u001b[0m\u001b[0m\n\u001b[0m",
            "\u001b[0;31mNameError\u001b[0m: name 'plot' is not defined"
          ]
        }
      ]
    },
    {
      "cell_type": "code",
      "source": [
        "gru_model = Sequential([\n",
        "        ## hidden node 30개\n",
        "        ## input size [100, 2]\n",
        "        ## 2개 층 사용\n",
        "        ## 마지막 출력층은 단일 출력\n",
        "        GRU(30, return_sequences=True, input_shape=[100,2]),\n",
        "        GRU(30),\n",
        "        Dense(1)\n",
        "    ])\n",
        "gru_model.compile(optimizer='adam', loss='mse')\n",
        "gru_model.summary()\n",
        "\n",
        "gru_history = gru_model.fit(X_data, y_data, epochs=100, validation_split=0.2)"
      ],
      "metadata": {
        "colab": {
          "base_uri": "https://localhost:8080/"
        },
        "id": "OtdGmvUqNEsL",
        "outputId": "2fe09fd9-36bd-4a4d-d39c-f210092bc284"
      },
      "execution_count": 24,
      "outputs": [
        {
          "output_type": "stream",
          "name": "stdout",
          "text": [
            "Model: \"sequential_6\"\n",
            "_________________________________________________________________\n",
            " Layer (type)                Output Shape              Param #   \n",
            "=================================================================\n",
            " gru_2 (GRU)                 (None, 100, 30)           3060      \n",
            "                                                                 \n",
            " gru_3 (GRU)                 (None, 30)                5580      \n",
            "                                                                 \n",
            " dense_4 (Dense)             (None, 1)                 31        \n",
            "                                                                 \n",
            "=================================================================\n",
            "Total params: 8671 (33.87 KB)\n",
            "Trainable params: 8671 (33.87 KB)\n",
            "Non-trainable params: 0 (0.00 Byte)\n",
            "_________________________________________________________________\n",
            "Epoch 1/100\n",
            "63/63 [==============================] - 5s 24ms/step - loss: 0.0490 - val_loss: 0.0485\n",
            "Epoch 2/100\n",
            "63/63 [==============================] - 1s 11ms/step - loss: 0.0477 - val_loss: 0.0484\n",
            "Epoch 3/100\n",
            "63/63 [==============================] - 1s 11ms/step - loss: 0.0476 - val_loss: 0.0490\n",
            "Epoch 4/100\n",
            "63/63 [==============================] - 1s 11ms/step - loss: 0.0470 - val_loss: 0.0480\n",
            "Epoch 5/100\n",
            "63/63 [==============================] - 1s 11ms/step - loss: 0.0472 - val_loss: 0.0491\n",
            "Epoch 6/100\n",
            "63/63 [==============================] - 1s 11ms/step - loss: 0.0472 - val_loss: 0.0519\n",
            "Epoch 7/100\n",
            "63/63 [==============================] - 1s 11ms/step - loss: 0.0472 - val_loss: 0.0484\n",
            "Epoch 8/100\n",
            "63/63 [==============================] - 1s 15ms/step - loss: 0.0470 - val_loss: 0.0480\n",
            "Epoch 9/100\n",
            "63/63 [==============================] - 1s 16ms/step - loss: 0.0472 - val_loss: 0.0479\n",
            "Epoch 10/100\n",
            "63/63 [==============================] - 1s 16ms/step - loss: 0.0469 - val_loss: 0.0494\n",
            "Epoch 11/100\n",
            "63/63 [==============================] - 1s 16ms/step - loss: 0.0468 - val_loss: 0.0478\n",
            "Epoch 12/100\n",
            "63/63 [==============================] - 1s 11ms/step - loss: 0.0469 - val_loss: 0.0478\n",
            "Epoch 13/100\n",
            "63/63 [==============================] - 1s 11ms/step - loss: 0.0468 - val_loss: 0.0488\n",
            "Epoch 14/100\n",
            "63/63 [==============================] - 1s 11ms/step - loss: 0.0473 - val_loss: 0.0479\n",
            "Epoch 15/100\n",
            "63/63 [==============================] - 1s 12ms/step - loss: 0.0466 - val_loss: 0.0478\n",
            "Epoch 16/100\n",
            "63/63 [==============================] - 1s 11ms/step - loss: 0.0479 - val_loss: 0.0477\n",
            "Epoch 17/100\n",
            "63/63 [==============================] - 1s 11ms/step - loss: 0.0466 - val_loss: 0.0477\n",
            "Epoch 18/100\n",
            "63/63 [==============================] - 1s 11ms/step - loss: 0.0465 - val_loss: 0.0484\n",
            "Epoch 19/100\n",
            "63/63 [==============================] - 1s 11ms/step - loss: 0.0464 - val_loss: 0.0493\n",
            "Epoch 20/100\n",
            "63/63 [==============================] - 1s 11ms/step - loss: 0.0468 - val_loss: 0.0475\n",
            "Epoch 21/100\n",
            "63/63 [==============================] - 1s 11ms/step - loss: 0.0466 - val_loss: 0.0477\n",
            "Epoch 22/100\n",
            "63/63 [==============================] - 1s 11ms/step - loss: 0.0462 - val_loss: 0.0475\n",
            "Epoch 23/100\n",
            "63/63 [==============================] - 1s 11ms/step - loss: 0.0456 - val_loss: 0.0463\n",
            "Epoch 24/100\n",
            "63/63 [==============================] - 1s 11ms/step - loss: 0.0446 - val_loss: 0.0457\n",
            "Epoch 25/100\n",
            "63/63 [==============================] - 1s 12ms/step - loss: 0.0422 - val_loss: 0.0403\n",
            "Epoch 26/100\n",
            "63/63 [==============================] - 1s 15ms/step - loss: 0.0186 - val_loss: 0.0057\n",
            "Epoch 27/100\n",
            "63/63 [==============================] - 1s 15ms/step - loss: 0.0037 - val_loss: 0.0029\n",
            "Epoch 28/100\n",
            "63/63 [==============================] - 1s 16ms/step - loss: 0.0020 - val_loss: 0.0022\n",
            "Epoch 29/100\n",
            "63/63 [==============================] - 1s 16ms/step - loss: 0.0015 - val_loss: 0.0019\n",
            "Epoch 30/100\n",
            "63/63 [==============================] - 1s 12ms/step - loss: 0.0013 - val_loss: 0.0020\n",
            "Epoch 31/100\n",
            "63/63 [==============================] - 1s 11ms/step - loss: 0.0012 - val_loss: 0.0016\n",
            "Epoch 32/100\n",
            "63/63 [==============================] - 1s 12ms/step - loss: 0.0012 - val_loss: 0.0024\n",
            "Epoch 33/100\n",
            "63/63 [==============================] - 1s 11ms/step - loss: 0.0012 - val_loss: 0.0014\n",
            "Epoch 34/100\n",
            "63/63 [==============================] - 1s 11ms/step - loss: 8.9641e-04 - val_loss: 0.0013\n",
            "Epoch 35/100\n",
            "63/63 [==============================] - 1s 11ms/step - loss: 9.2868e-04 - val_loss: 0.0012\n",
            "Epoch 36/100\n",
            "63/63 [==============================] - 1s 11ms/step - loss: 7.4992e-04 - val_loss: 0.0012\n",
            "Epoch 37/100\n",
            "63/63 [==============================] - 1s 11ms/step - loss: 7.5746e-04 - val_loss: 0.0010\n",
            "Epoch 38/100\n",
            "63/63 [==============================] - 1s 11ms/step - loss: 7.0568e-04 - val_loss: 0.0010\n",
            "Epoch 39/100\n",
            "63/63 [==============================] - 1s 12ms/step - loss: 6.7253e-04 - val_loss: 9.3365e-04\n",
            "Epoch 40/100\n",
            "63/63 [==============================] - 1s 11ms/step - loss: 5.8944e-04 - val_loss: 8.8983e-04\n",
            "Epoch 41/100\n",
            "63/63 [==============================] - 1s 11ms/step - loss: 5.8272e-04 - val_loss: 8.5420e-04\n",
            "Epoch 42/100\n",
            "63/63 [==============================] - 1s 11ms/step - loss: 5.1545e-04 - val_loss: 7.7977e-04\n",
            "Epoch 43/100\n",
            "63/63 [==============================] - 1s 11ms/step - loss: 4.8992e-04 - val_loss: 8.7236e-04\n",
            "Epoch 44/100\n",
            "63/63 [==============================] - 1s 15ms/step - loss: 5.1189e-04 - val_loss: 6.6932e-04\n",
            "Epoch 45/100\n",
            "63/63 [==============================] - 1s 16ms/step - loss: 4.3573e-04 - val_loss: 7.2990e-04\n",
            "Epoch 46/100\n",
            "63/63 [==============================] - 1s 16ms/step - loss: 5.0547e-04 - val_loss: 9.0078e-04\n",
            "Epoch 47/100\n",
            "63/63 [==============================] - 1s 16ms/step - loss: 4.1542e-04 - val_loss: 5.8792e-04\n",
            "Epoch 48/100\n",
            "63/63 [==============================] - 1s 13ms/step - loss: 3.9505e-04 - val_loss: 5.8898e-04\n",
            "Epoch 49/100\n",
            "63/63 [==============================] - 1s 11ms/step - loss: 3.7051e-04 - val_loss: 5.5615e-04\n",
            "Epoch 50/100\n",
            "63/63 [==============================] - 1s 11ms/step - loss: 3.2933e-04 - val_loss: 5.2317e-04\n",
            "Epoch 51/100\n",
            "63/63 [==============================] - 1s 13ms/step - loss: 3.2316e-04 - val_loss: 5.9143e-04\n",
            "Epoch 52/100\n",
            "63/63 [==============================] - 1s 15ms/step - loss: 3.3330e-04 - val_loss: 5.2686e-04\n",
            "Epoch 53/100\n",
            "63/63 [==============================] - 1s 14ms/step - loss: 3.4631e-04 - val_loss: 5.7138e-04\n",
            "Epoch 54/100\n",
            "63/63 [==============================] - 1s 14ms/step - loss: 3.1123e-04 - val_loss: 7.8987e-04\n",
            "Epoch 55/100\n",
            "63/63 [==============================] - 1s 11ms/step - loss: 3.6887e-04 - val_loss: 4.0921e-04\n",
            "Epoch 56/100\n",
            "63/63 [==============================] - 1s 11ms/step - loss: 2.5342e-04 - val_loss: 4.9751e-04\n",
            "Epoch 57/100\n",
            "63/63 [==============================] - 1s 11ms/step - loss: 2.6331e-04 - val_loss: 4.6391e-04\n",
            "Epoch 58/100\n",
            "63/63 [==============================] - 1s 12ms/step - loss: 3.0870e-04 - val_loss: 4.4289e-04\n",
            "Epoch 59/100\n",
            "63/63 [==============================] - 1s 11ms/step - loss: 2.3221e-04 - val_loss: 4.6345e-04\n",
            "Epoch 60/100\n",
            "63/63 [==============================] - 1s 11ms/step - loss: 2.3773e-04 - val_loss: 3.6693e-04\n",
            "Epoch 61/100\n",
            "63/63 [==============================] - 1s 16ms/step - loss: 2.0518e-04 - val_loss: 4.0597e-04\n",
            "Epoch 62/100\n",
            "63/63 [==============================] - 1s 16ms/step - loss: 2.3122e-04 - val_loss: 3.9534e-04\n",
            "Epoch 63/100\n",
            "63/63 [==============================] - 1s 15ms/step - loss: 2.2240e-04 - val_loss: 3.3904e-04\n",
            "Epoch 64/100\n",
            "63/63 [==============================] - 1s 16ms/step - loss: 1.8246e-04 - val_loss: 3.3562e-04\n",
            "Epoch 65/100\n",
            "63/63 [==============================] - 1s 13ms/step - loss: 1.9477e-04 - val_loss: 3.4025e-04\n",
            "Epoch 66/100\n",
            "63/63 [==============================] - 1s 11ms/step - loss: 2.0704e-04 - val_loss: 3.9546e-04\n",
            "Epoch 67/100\n",
            "63/63 [==============================] - 1s 11ms/step - loss: 2.0573e-04 - val_loss: 3.8315e-04\n",
            "Epoch 68/100\n",
            "63/63 [==============================] - 1s 11ms/step - loss: 1.8403e-04 - val_loss: 3.1953e-04\n",
            "Epoch 69/100\n",
            "63/63 [==============================] - 1s 11ms/step - loss: 1.9210e-04 - val_loss: 3.3580e-04\n",
            "Epoch 70/100\n",
            "63/63 [==============================] - 1s 11ms/step - loss: 1.8012e-04 - val_loss: 3.2483e-04\n",
            "Epoch 71/100\n",
            "63/63 [==============================] - 1s 12ms/step - loss: 1.6540e-04 - val_loss: 2.9800e-04\n",
            "Epoch 72/100\n",
            "63/63 [==============================] - 1s 12ms/step - loss: 1.6742e-04 - val_loss: 2.9537e-04\n",
            "Epoch 73/100\n",
            "63/63 [==============================] - 1s 11ms/step - loss: 1.6206e-04 - val_loss: 2.8294e-04\n",
            "Epoch 74/100\n",
            "63/63 [==============================] - 1s 11ms/step - loss: 1.6139e-04 - val_loss: 3.0089e-04\n",
            "Epoch 75/100\n",
            "63/63 [==============================] - 1s 11ms/step - loss: 1.9132e-04 - val_loss: 2.8736e-04\n",
            "Epoch 76/100\n",
            "63/63 [==============================] - 1s 12ms/step - loss: 1.5415e-04 - val_loss: 3.3951e-04\n",
            "Epoch 77/100\n",
            "63/63 [==============================] - 1s 12ms/step - loss: 1.8448e-04 - val_loss: 2.7601e-04\n",
            "Epoch 78/100\n",
            "63/63 [==============================] - 1s 11ms/step - loss: 1.3684e-04 - val_loss: 2.5290e-04\n",
            "Epoch 79/100\n",
            "63/63 [==============================] - 1s 14ms/step - loss: 1.4500e-04 - val_loss: 2.5263e-04\n",
            "Epoch 80/100\n",
            "63/63 [==============================] - 1s 16ms/step - loss: 1.6509e-04 - val_loss: 2.4917e-04\n",
            "Epoch 81/100\n",
            "63/63 [==============================] - 1s 16ms/step - loss: 1.6661e-04 - val_loss: 2.5295e-04\n",
            "Epoch 82/100\n",
            "63/63 [==============================] - 1s 16ms/step - loss: 1.2150e-04 - val_loss: 2.3164e-04\n",
            "Epoch 83/100\n",
            "63/63 [==============================] - 1s 13ms/step - loss: 1.2497e-04 - val_loss: 2.9829e-04\n",
            "Epoch 84/100\n",
            "63/63 [==============================] - 1s 11ms/step - loss: 1.3203e-04 - val_loss: 2.8882e-04\n",
            "Epoch 85/100\n",
            "63/63 [==============================] - 1s 12ms/step - loss: 1.3061e-04 - val_loss: 2.4292e-04\n",
            "Epoch 86/100\n",
            "63/63 [==============================] - 1s 12ms/step - loss: 1.7627e-04 - val_loss: 2.1679e-04\n",
            "Epoch 87/100\n",
            "63/63 [==============================] - 1s 11ms/step - loss: 1.2784e-04 - val_loss: 2.1557e-04\n",
            "Epoch 88/100\n",
            "63/63 [==============================] - 1s 11ms/step - loss: 1.2556e-04 - val_loss: 3.0974e-04\n",
            "Epoch 89/100\n",
            "63/63 [==============================] - 1s 12ms/step - loss: 2.1940e-04 - val_loss: 2.4085e-04\n",
            "Epoch 90/100\n",
            "63/63 [==============================] - 1s 11ms/step - loss: 1.3423e-04 - val_loss: 4.1216e-04\n",
            "Epoch 91/100\n",
            "63/63 [==============================] - 1s 11ms/step - loss: 1.3799e-04 - val_loss: 1.9290e-04\n",
            "Epoch 92/100\n",
            "63/63 [==============================] - 1s 11ms/step - loss: 1.0023e-04 - val_loss: 1.8747e-04\n",
            "Epoch 93/100\n",
            "63/63 [==============================] - 1s 11ms/step - loss: 9.1938e-05 - val_loss: 1.8483e-04\n",
            "Epoch 94/100\n",
            "63/63 [==============================] - 1s 11ms/step - loss: 9.9034e-05 - val_loss: 2.0312e-04\n",
            "Epoch 95/100\n",
            "63/63 [==============================] - 1s 12ms/step - loss: 9.0369e-05 - val_loss: 1.9873e-04\n",
            "Epoch 96/100\n",
            "63/63 [==============================] - 1s 11ms/step - loss: 1.1248e-04 - val_loss: 1.9599e-04\n",
            "Epoch 97/100\n",
            "63/63 [==============================] - 1s 15ms/step - loss: 8.9136e-05 - val_loss: 2.4261e-04\n",
            "Epoch 98/100\n",
            "63/63 [==============================] - 1s 16ms/step - loss: 9.8039e-05 - val_loss: 2.0435e-04\n",
            "Epoch 99/100\n",
            "63/63 [==============================] - 1s 17ms/step - loss: 1.1920e-04 - val_loss: 1.7261e-04\n",
            "Epoch 100/100\n",
            "63/63 [==============================] - 1s 17ms/step - loss: 8.8436e-05 - val_loss: 1.9011e-04\n"
          ]
        }
      ]
    },
    {
      "cell_type": "code",
      "source": [
        "plot_learning_curves(gru_history, \"GRU\")"
      ],
      "metadata": {
        "colab": {
          "base_uri": "https://localhost:8080/",
          "height": 472
        },
        "id": "XLCeaXYuQZy9",
        "outputId": "3252d8c1-b667-4641-ea36-3347049d4dc8"
      },
      "execution_count": 26,
      "outputs": [
        {
          "output_type": "display_data",
          "data": {
            "text/plain": [
              "<Figure size 640x480 with 1 Axes>"
            ],
            "image/png": "[encoded data removed]"
          },
          "metadata": {}
        }
      ]
    },
    {
      "cell_type": "markdown",
      "source": [
        "# 영화 리뷰 학습 후 긍정/부정 구분하기"
      ],
      "metadata": {
        "id": "mQ1T3Pp4R9KU"
      }
    },
    {
      "cell_type": "code",
      "source": [
        "from tensorflow.keras.datasets import imdb\n",
        "from tensorflow.keras.preprocessing.sequence import pad_sequences\n",
        "from tensorflow.keras.layers import Embedding\n",
        "from utils import decode_imdb, sentence_to_vector"
      ],
      "metadata": {
        "id": "fqtq_tfiTRjr"
      },
      "execution_count": 35,
      "outputs": []
    },
    {
      "cell_type": "code",
      "source": [
        "# 데이터셋 로드\n",
        "max_features = 10000  # 사용할 단어의 최대 개수\n",
        "max_len = 500  # 패딩할 시퀀스의 최대 길이\n",
        "\n",
        "(X_train, y_train), (X_test, y_test) = imdb.load_data(num_words=max_features)\n",
        "\n",
        "print(X_train[4])"
      ],
      "metadata": {
        "colab": {
          "base_uri": "https://localhost:8080/"
        },
        "id": "FosHHX1JpfbH",
        "outputId": "f9008ce4-7efc-4310-ee7c-c1d13f76b35d"
      },
      "execution_count": 30,
      "outputs": [
        {
          "output_type": "stream",
          "name": "stdout",
          "text": [
            "Downloading data from https://storage.googleapis.com/tensorflow/tf-keras-datasets/imdb.npz\n",
            "17464789/17464789 [==============================] - 0s 0us/step\n",
            "[1, 249, 1323, 7, 61, 113, 10, 10, 13, 1637, 14, 20, 56, 33, 2401, 18, 457, 88, 13, 2626, 1400, 45, 3171, 13, 70, 79, 49, 706, 919, 13, 16, 355, 340, 355, 1696, 96, 143, 4, 22, 32, 289, 7, 61, 369, 71, 2359, 5, 13, 16, 131, 2073, 249, 114, 249, 229, 249, 20, 13, 28, 126, 110, 13, 473, 8, 569, 61, 419, 56, 429, 6, 1513, 18, 35, 534, 95, 474, 570, 5, 25, 124, 138, 88, 12, 421, 1543, 52, 725, 6397, 61, 419, 11, 13, 1571, 15, 1543, 20, 11, 4, 2, 5, 296, 12, 3524, 5, 15, 421, 128, 74, 233, 334, 207, 126, 224, 12, 562, 298, 2167, 1272, 7, 2601, 5, 516, 988, 43, 8, 79, 120, 15, 595, 13, 784, 25, 3171, 18, 165, 170, 143, 19, 14, 5, 7224, 6, 226, 251, 7, 61, 113]\n"
          ]
        }
      ]
    },
    {
      "cell_type": "code",
      "source": [
        "decoded_review = decode_imdb(X_train[4])\n",
        "print(decoded_review)"
      ],
      "metadata": {
        "colab": {
          "base_uri": "https://localhost:8080/"
        },
        "id": "l1IKVB1Wq1Ys",
        "outputId": "937d8125-3a39-4972-af48-e5132f21cff5"
      },
      "execution_count": 32,
      "outputs": [
        {
          "output_type": "stream",
          "name": "stdout",
          "text": [
            "the sure themes br only acting i i was favourite as on she they hat but already most was scares minor if flash was well also good 8 older was with enjoy used enjoy phone too i'm of you an job br only women than robot to was with these unexpected sure little sure guy sure on was one your life was children in particularly only yes she sort is jerry but so stories them final known to have does such most that supposed imagination very moving antonioni only yes this was seconds for imagination on this of and to plays that nights to for supposed still been last fan always your bit that strong said clean knowing br theory to car masterpiece out in also show for film's was tale have flash but look part i'm film as to penelope is script hard br only acting\n"
          ]
        }
      ]
    },
    {
      "cell_type": "code",
      "source": [
        "# 시퀀스 패딩\n",
        "X_train = pad_sequences(X_train, maxlen=max_len)\n",
        "X_test = pad_sequences(X_test, maxlen=max_len)"
      ],
      "metadata": {
        "id": "4soDlNMjqhO-"
      },
      "execution_count": 33,
      "outputs": []
    },
    {
      "cell_type": "code",
      "source": [
        "X_train[4] #뒷부분이 중요하므로 앞에다가 padding"
      ],
      "metadata": {
        "colab": {
          "base_uri": "https://localhost:8080/"
        },
        "id": "JyGPNqDMtKCo",
        "outputId": "1824035f-321c-452c-f487-da093d59263c"
      },
      "execution_count": 34,
      "outputs": [
        {
          "output_type": "execute_result",
          "data": {
            "text/plain": [
              "array([   0,    0,    0,    0,    0,    0,    0,    0,    0,    0,    0,\n",
              "          0,    0,    0,    0,    0,    0,    0,    0,    0,    0,    0,\n",
              "          0,    0,    0,    0,    0,    0,    0,    0,    0,    0,    0,\n",
              "          0,    0,    0,    0,    0,    0,    0,    0,    0,    0,    0,\n",
              "          0,    0,    0,    0,    0,    0,    0,    0,    0,    0,    0,\n",
              "          0,    0,    0,    0,    0,    0,    0,    0,    0,    0,    0,\n",
              "          0,    0,    0,    0,    0,    0,    0,    0,    0,    0,    0,\n",
              "          0,    0,    0,    0,    0,    0,    0,    0,    0,    0,    0,\n",
              "          0,    0,    0,    0,    0,    0,    0,    0,    0,    0,    0,\n",
              "          0,    0,    0,    0,    0,    0,    0,    0,    0,    0,    0,\n",
              "          0,    0,    0,    0,    0,    0,    0,    0,    0,    0,    0,\n",
              "          0,    0,    0,    0,    0,    0,    0,    0,    0,    0,    0,\n",
              "          0,    0,    0,    0,    0,    0,    0,    0,    0,    0,    0,\n",
              "          0,    0,    0,    0,    0,    0,    0,    0,    0,    0,    0,\n",
              "          0,    0,    0,    0,    0,    0,    0,    0,    0,    0,    0,\n",
              "          0,    0,    0,    0,    0,    0,    0,    0,    0,    0,    0,\n",
              "          0,    0,    0,    0,    0,    0,    0,    0,    0,    0,    0,\n",
              "          0,    0,    0,    0,    0,    0,    0,    0,    0,    0,    0,\n",
              "          0,    0,    0,    0,    0,    0,    0,    0,    0,    0,    0,\n",
              "          0,    0,    0,    0,    0,    0,    0,    0,    0,    0,    0,\n",
              "          0,    0,    0,    0,    0,    0,    0,    0,    0,    0,    0,\n",
              "          0,    0,    0,    0,    0,    0,    0,    0,    0,    0,    0,\n",
              "          0,    0,    0,    0,    0,    0,    0,    0,    0,    0,    0,\n",
              "          0,    0,    0,    0,    0,    0,    0,    0,    0,    0,    0,\n",
              "          0,    0,    0,    0,    0,    0,    0,    0,    0,    0,    0,\n",
              "          0,    0,    0,    0,    0,    0,    0,    0,    0,    0,    0,\n",
              "          0,    0,    0,    0,    0,    0,    0,    0,    0,    0,    0,\n",
              "          0,    0,    0,    0,    0,    0,    0,    0,    0,    0,    0,\n",
              "          0,    0,    0,    0,    0,    0,    0,    0,    0,    0,    0,\n",
              "          0,    0,    0,    0,    0,    0,    0,    0,    0,    0,    0,\n",
              "          0,    0,    0,    0,    0,    0,    0,    0,    0,    0,    0,\n",
              "          0,    0,    0,    0,    0,    0,    0,    0,    0,    0,    0,\n",
              "          0,    1,  249, 1323,    7,   61,  113,   10,   10,   13, 1637,\n",
              "         14,   20,   56,   33, 2401,   18,  457,   88,   13, 2626, 1400,\n",
              "         45, 3171,   13,   70,   79,   49,  706,  919,   13,   16,  355,\n",
              "        340,  355, 1696,   96,  143,    4,   22,   32,  289,    7,   61,\n",
              "        369,   71, 2359,    5,   13,   16,  131, 2073,  249,  114,  249,\n",
              "        229,  249,   20,   13,   28,  126,  110,   13,  473,    8,  569,\n",
              "         61,  419,   56,  429,    6, 1513,   18,   35,  534,   95,  474,\n",
              "        570,    5,   25,  124,  138,   88,   12,  421, 1543,   52,  725,\n",
              "       6397,   61,  419,   11,   13, 1571,   15, 1543,   20,   11,    4,\n",
              "          2,    5,  296,   12, 3524,    5,   15,  421,  128,   74,  233,\n",
              "        334,  207,  126,  224,   12,  562,  298, 2167, 1272,    7, 2601,\n",
              "          5,  516,  988,   43,    8,   79,  120,   15,  595,   13,  784,\n",
              "         25, 3171,   18,  165,  170,  143,   19,   14,    5, 7224,    6,\n",
              "        226,  251,    7,   61,  113], dtype=int32)"
            ]
          },
          "metadata": {},
          "execution_count": 34
        }
      ]
    },
    {
      "cell_type": "code",
      "source": [
        "nlp_model = Sequential([\n",
        "    ## 1. 임베딩 벡터 input_dim=max_features, output_dim = 128, input_length=max_len\n",
        "    ## 2. LSTM hidden layer 64개\n",
        "    ## 3. Dense 출력 1개, activation은 sigmoid\n",
        "    Embedding(input_dim = max_features, output_dim = 128, input_length = max_len),\n",
        "    LSTM(64, return_sequences=False),\n",
        "    Dense(1, activation = 'sigmoid')  #단일 출력이므로 시그모이드 사용\n",
        "])\n",
        "\n",
        "nlp_model.compile(optimizer='adam', loss='binary_crossentropy', metrics=['accuracy'])\n",
        "nlp_model.summary()"
      ],
      "metadata": {
        "colab": {
          "base_uri": "https://localhost:8080/"
        },
        "id": "0ogwz9vVpiWt",
        "outputId": "08ed4132-b44b-4eef-a966-50b5a0a74712"
      },
      "execution_count": 37,
      "outputs": [
        {
          "output_type": "stream",
          "name": "stdout",
          "text": [
            "Model: \"sequential_9\"\n",
            "_________________________________________________________________\n",
            " Layer (type)                Output Shape              Param #   \n",
            "=================================================================\n",
            " embedding (Embedding)       (None, 500, 128)          1280000   \n",
            "                                                                 \n",
            " lstm_10 (LSTM)              (None, 64)                49408     \n",
            "                                                                 \n",
            " dense_5 (Dense)             (None, 1)                 65        \n",
            "                                                                 \n",
            "=================================================================\n",
            "Total params: 1329473 (5.07 MB)\n",
            "Trainable params: 1329473 (5.07 MB)\n",
            "Non-trainable params: 0 (0.00 Byte)\n",
            "_________________________________________________________________\n"
          ]
        }
      ]
    },
    {
      "cell_type": "code",
      "source": [
        "nlp_history = nlp_model.fit(X_train, y_train, epochs=5, batch_size=64, validation_split=0.2)"
      ],
      "metadata": {
        "colab": {
          "base_uri": "https://localhost:8080/"
        },
        "id": "mFUJj5gTpulx",
        "outputId": "cc59144d-c723-49e2-e4e2-c56412fe9640"
      },
      "execution_count": 38,
      "outputs": [
        {
          "output_type": "stream",
          "name": "stdout",
          "text": [
            "Epoch 1/5\n",
            "313/313 [==============================] - 42s 126ms/step - loss: 0.4419 - accuracy: 0.7930 - val_loss: 0.3463 - val_accuracy: 0.8564\n",
            "Epoch 2/5\n",
            "313/313 [==============================] - 23s 74ms/step - loss: 0.2435 - accuracy: 0.9067 - val_loss: 0.3122 - val_accuracy: 0.8764\n",
            "Epoch 3/5\n",
            "313/313 [==============================] - 15s 49ms/step - loss: 0.2018 - accuracy: 0.9190 - val_loss: 0.3880 - val_accuracy: 0.8582\n",
            "Epoch 4/5\n",
            "313/313 [==============================] - 12s 39ms/step - loss: 0.1605 - accuracy: 0.9413 - val_loss: 0.3868 - val_accuracy: 0.8650\n",
            "Epoch 5/5\n",
            "313/313 [==============================] - 10s 33ms/step - loss: 0.1200 - accuracy: 0.9568 - val_loss: 0.4389 - val_accuracy: 0.8632\n"
          ]
        }
      ]
    },
    {
      "cell_type": "code",
      "source": [
        "test_loss, test_acc = nlp_model.evaluate(X_test, y_test)\n",
        "print(f'Test Accuracy: {test_acc:.4f}')"
      ],
      "metadata": {
        "colab": {
          "base_uri": "https://localhost:8080/"
        },
        "id": "LCZOy2-Opyeu",
        "outputId": "eac4f956-fcee-4ca3-ae8f-05dc581279ec"
      },
      "execution_count": 39,
      "outputs": [
        {
          "output_type": "stream",
          "name": "stdout",
          "text": [
            "782/782 [==============================] - 8s 10ms/step - loss: 0.4548 - accuracy: 0.8607\n",
            "Test Accuracy: 0.8607\n"
          ]
        }
      ]
    },
    {
      "cell_type": "code",
      "source": [
        "encode_test_sentence = sentence_to_vector('hate the movie')\n",
        "encode_test_sentence = pad_sequences(encode_test_sentence, maxlen=max_len)\n",
        "\n",
        "nlp_model.predict(encode_test_sentence)"
      ],
      "metadata": {
        "colab": {
          "base_uri": "https://localhost:8080/"
        },
        "id": "z_PzyB52uNeh",
        "outputId": "3fac09a8-b145-4a4a-afa6-0bf12a8ff05c"
      },
      "execution_count": 40,
      "outputs": [
        {
          "output_type": "stream",
          "name": "stdout",
          "text": [
            "[781, 1, 17]\n",
            "1/1 [==============================] - 0s 376ms/step\n"
          ]
        },
        {
          "output_type": "execute_result",
          "data": {
            "text/plain": [
              "array([[0.33859372]], dtype=float32)"
            ]
          },
          "metadata": {},
          "execution_count": 40
        }
      ]
    },
    {
      "cell_type": "markdown",
      "source": [
        "# 네이버 영화 리뷰 해보기 (한글 리뷰)"
      ],
      "metadata": {
        "id": "V_dL8XCNUW7B"
      }
    },
    {
      "cell_type": "code",
      "source": [
        "from tensorflow.keras.preprocessing.text import Tokenizer\n",
        "from tensorflow.keras.preprocessing.sequence import pad_sequences\n",
        "from tensorflow.keras.layers import Embedding\n",
        "import pandas as pd"
      ],
      "metadata": {
        "id": "NJUlEQ4STUvC"
      },
      "execution_count": 41,
      "outputs": []
    },
    {
      "cell_type": "code",
      "source": [
        "# 데이터셋 로드\n",
        "train_data,test_data = ko_review()\n",
        "\n",
        "# 데이터 확인\n",
        "train_data.head()"
      ],
      "metadata": {
        "colab": {
          "base_uri": "https://localhost:8080/",
          "height": 278
        },
        "id": "2kjJG_gRQaKe",
        "outputId": "102cab0a-9c5e-45f1-95b3-24c5cbd6ce28"
      },
      "execution_count": 42,
      "outputs": [
        {
          "output_type": "stream",
          "name": "stdout",
          "text": [
            "Downloading data from https://raw.githubusercontent.com/hmkim312/datas/main/navermoviereview/ratings_train.txt\n",
            "14628807/14628807 [==============================] - 0s 0us/step\n",
            "Downloading data from https://raw.githubusercontent.com/hmkim312/datas/main/navermoviereview/ratings_test.txt\n",
            "4893335/4893335 [==============================] - 0s 0us/step\n"
          ]
        },
        {
          "output_type": "execute_result",
          "data": {
            "text/plain": [
              "         id                                           document  label\n",
              "0   9976970                                아 더빙.. 진짜 짜증나네요 목소리      0\n",
              "1   3819312                  흠...포스터보고 초딩영화줄....오버연기조차 가볍지 않구나      1\n",
              "2  10265843                                  너무재밓었다그래서보는것을추천한다      0\n",
              "3   9045019                      교도소 이야기구먼 ..솔직히 재미는 없다..평점 조정      0\n",
              "4   6483659  사이몬페그의 익살스런 연기가 돋보였던 영화!스파이더맨에서 늙어보이기만 했던 커스틴 ...      1"
            ],
            "text/html": [
              "\n",
              "  <div id=\"df-91c5d8f8-7410-4505-87aa-e1896a8022e7\" class=\"colab-df-container\">\n",
              "    <div>\n",
              "<style scoped>\n",
              "    .dataframe tbody tr th:only-of-type {\n",
              "        vertical-align: middle;\n",
              "    }\n",
              "\n",
              "    .dataframe tbody tr th {\n",
              "        vertical-align: top;\n",
              "    }\n",
              "\n",
              "    .dataframe thead th {\n",
              "        text-align: right;\n",
              "    }\n",
              "</style>\n",
              "<table border=\"1\" class=\"dataframe\">\n",
              "  <thead>\n",
              "    <tr style=\"text-align: right;\">\n",
              "      <th></th>\n",
              "      <th>id</th>\n",
              "      <th>document</th>\n",
              "      <th>label</th>\n",
              "    </tr>\n",
              "  </thead>\n",
              "  <tbody>\n",
              "    <tr>\n",
              "      <th>0</th>\n",
              "      <td>9976970</td>\n",
              "      <td>아 더빙.. 진짜 짜증나네요 목소리</td>\n",
              "      <td>0</td>\n",
              "    </tr>\n",
              "    <tr>\n",
              "      <th>1</th>\n",
              "      <td>3819312</td>\n",
              "      <td>흠...포스터보고 초딩영화줄....오버연기조차 가볍지 않구나</td>\n",
              "      <td>1</td>\n",
              "    </tr>\n",
              "    <tr>\n",
              "      <th>2</th>\n",
              "      <td>10265843</td>\n",
              "      <td>너무재밓었다그래서보는것을추천한다</td>\n",
              "      <td>0</td>\n",
              "    </tr>\n",
              "    <tr>\n",
              "      <th>3</th>\n",
              "      <td>9045019</td>\n",
              "      <td>교도소 이야기구먼 ..솔직히 재미는 없다..평점 조정</td>\n",
              "      <td>0</td>\n",
              "    </tr>\n",
              "    <tr>\n",
              "      <th>4</th>\n",
              "      <td>6483659</td>\n",
              "      <td>사이몬페그의 익살스런 연기가 돋보였던 영화!스파이더맨에서 늙어보이기만 했던 커스틴 ...</td>\n",
              "      <td>1</td>\n",
              "    </tr>\n",
              "  </tbody>\n",
              "</table>\n",
              "</div>\n",
              "    <div class=\"colab-df-buttons\">\n",
              "\n",
              "  <div class=\"colab-df-container\">\n",
              "    <button class=\"colab-df-convert\" onclick=\"convertToInteractive('df-91c5d8f8-7410-4505-87aa-e1896a8022e7')\"\n",
              "            title=\"Convert this dataframe to an interactive table.\"\n",
              "            style=\"display:none;\">\n",
              "\n",
              "  <svg xmlns=\"http://www.w3.org/2000/svg\" height=\"24px\" viewBox=\"0 -960 960 960\">\n",
              "    <path d=\"M120-120v-720h720v720H120Zm60-500h600v-160H180v160Zm220 220h160v-160H400v160Zm0 220h160v-160H400v160ZM180-400h160v-160H180v160Zm440 0h160v-160H620v160ZM180-180h160v-160H180v160Zm440 0h160v-160H620v160Z\"/>\n",
              "  </svg>\n",
              "    </button>\n",
              "\n",
              "  <style>\n",
              "    .colab-df-container {\n",
              "      display:flex;\n",
              "      gap: 12px;\n",
              "    }\n",
              "\n",
              "    .colab-df-convert {\n",
              "      background-color: #E8F0FE;\n",
              "      border: none;\n",
              "      border-radius: 50%;\n",
              "      cursor: pointer;\n",
              "      display: none;\n",
              "      fill: #1967D2;\n",
              "      height: 32px;\n",
              "      padding: 0 0 0 0;\n",
              "      width: 32px;\n",
              "    }\n",
              "\n",
              "    .colab-df-convert:hover {\n",
              "      background-color: #E2EBFA;\n",
              "      box-shadow: 0px 1px 2px rgba(60, 64, 67, 0.3), 0px 1px 3px 1px rgba(60, 64, 67, 0.15);\n",
              "      fill: #174EA6;\n",
              "    }\n",
              "\n",
              "    .colab-df-buttons div {\n",
              "      margin-bottom: 4px;\n",
              "    }\n",
              "\n",
              "    [theme=dark] .colab-df-convert {\n",
              "      background-color: #3B4455;\n",
              "      fill: #D2E3FC;\n",
              "    }\n",
              "\n",
              "    [theme=dark] .colab-df-convert:hover {\n",
              "      background-color: #434B5C;\n",
              "      box-shadow: 0px 1px 3px 1px rgba(0, 0, 0, 0.15);\n",
              "      filter: drop-shadow(0px 1px 2px rgba(0, 0, 0, 0.3));\n",
              "      fill: #FFFFFF;\n",
              "    }\n",
              "  </style>\n",
              "\n",
              "    <script>\n",
              "      const buttonEl =\n",
              "        document.querySelector('#df-91c5d8f8-7410-4505-87aa-e1896a8022e7 button.colab-df-convert');\n",
              "      buttonEl.style.display =\n",
              "        google.colab.kernel.accessAllowed ? 'block' : 'none';\n",
              "\n",
              "      async function convertToInteractive(key) {\n",
              "        const element = document.querySelector('#df-91c5d8f8-7410-4505-87aa-e1896a8022e7');\n",
              "        const dataTable =\n",
              "          await google.colab.kernel.invokeFunction('convertToInteractive',\n",
              "                                                    [key], {});\n",
              "        if (!dataTable) return;\n",
              "\n",
              "        const docLinkHtml = 'Like what you see? Visit the ' +\n",
              "          '<a target=\"_blank\" href=https://colab.research.google.com/notebooks/data_table.ipynb>data table notebook</a>'\n",
              "          + ' to learn more about interactive tables.';\n",
              "        element.innerHTML = '';\n",
              "        dataTable['output_type'] = 'display_data';\n",
              "        await google.colab.output.renderOutput(dataTable, element);\n",
              "        const docLink = document.createElement('div');\n",
              "        docLink.innerHTML = docLinkHtml;\n",
              "        element.appendChild(docLink);\n",
              "      }\n",
              "    </script>\n",
              "  </div>\n",
              "\n",
              "\n",
              "<div id=\"df-eab10b3f-b8a5-484e-9bb6-42751ca39990\">\n",
              "  <button class=\"colab-df-quickchart\" onclick=\"quickchart('df-eab10b3f-b8a5-484e-9bb6-42751ca39990')\"\n",
              "            title=\"Suggest charts\"\n",
              "            style=\"display:none;\">\n",
              "\n",
              "<svg xmlns=\"http://www.w3.org/2000/svg\" height=\"24px\"viewBox=\"0 0 24 24\"\n",
              "     width=\"24px\">\n",
              "    <g>\n",
              "        <path d=\"M19 3H5c-1.1 0-2 .9-2 2v14c0 1.1.9 2 2 2h14c1.1 0 2-.9 2-2V5c0-1.1-.9-2-2-2zM9 17H7v-7h2v7zm4 0h-2V7h2v10zm4 0h-2v-4h2v4z\"/>\n",
              "    </g>\n",
              "</svg>\n",
              "  </button>\n",
              "\n",
              "<style>\n",
              "  .colab-df-quickchart {\n",
              "      --bg-color: #E8F0FE;\n",
              "      --fill-color: #1967D2;\n",
              "      --hover-bg-color: #E2EBFA;\n",
              "      --hover-fill-color: #174EA6;\n",
              "      --disabled-fill-color: #AAA;\n",
              "      --disabled-bg-color: #DDD;\n",
              "  }\n",
              "\n",
              "  [theme=dark] .colab-df-quickchart {\n",
              "      --bg-color: #3B4455;\n",
              "      --fill-color: #D2E3FC;\n",
              "      --hover-bg-color: #434B5C;\n",
              "      --hover-fill-color: #FFFFFF;\n",
              "      --disabled-bg-color: #3B4455;\n",
              "      --disabled-fill-color: #666;\n",
              "  }\n",
              "\n",
              "  .colab-df-quickchart {\n",
              "    background-color: var(--bg-color);\n",
              "    border: none;\n",
              "    border-radius: 50%;\n",
              "    cursor: pointer;\n",
              "    display: none;\n",
              "    fill: var(--fill-color);\n",
              "    height: 32px;\n",
              "    padding: 0;\n",
              "    width: 32px;\n",
              "  }\n",
              "\n",
              "  .colab-df-quickchart:hover {\n",
              "    background-color: var(--hover-bg-color);\n",
              "    box-shadow: 0 1px 2px rgba(60, 64, 67, 0.3), 0 1px 3px 1px rgba(60, 64, 67, 0.15);\n",
              "    fill: var(--button-hover-fill-color);\n",
              "  }\n",
              "\n",
              "  .colab-df-quickchart-complete:disabled,\n",
              "  .colab-df-quickchart-complete:disabled:hover {\n",
              "    background-color: var(--disabled-bg-color);\n",
              "    fill: var(--disabled-fill-color);\n",
              "    box-shadow: none;\n",
              "  }\n",
              "\n",
              "  .colab-df-spinner {\n",
              "    border: 2px solid var(--fill-color);\n",
              "    border-color: transparent;\n",
              "    border-bottom-color: var(--fill-color);\n",
              "    animation:\n",
              "      spin 1s steps(1) infinite;\n",
              "  }\n",
              "\n",
              "  @keyframes spin {\n",
              "    0% {\n",
              "      border-color: transparent;\n",
              "      border-bottom-color: var(--fill-color);\n",
              "      border-left-color: var(--fill-color);\n",
              "    }\n",
              "    20% {\n",
              "      border-color: transparent;\n",
              "      border-left-color: var(--fill-color);\n",
              "      border-top-color: var(--fill-color);\n",
              "    }\n",
              "    30% {\n",
              "      border-color: transparent;\n",
              "      border-left-color: var(--fill-color);\n",
              "      border-top-color: var(--fill-color);\n",
              "      border-right-color: var(--fill-color);\n",
              "    }\n",
              "    40% {\n",
              "      border-color: transparent;\n",
              "      border-right-color: var(--fill-color);\n",
              "      border-top-color: var(--fill-color);\n",
              "    }\n",
              "    60% {\n",
              "      border-color: transparent;\n",
              "      border-right-color: var(--fill-color);\n",
              "    }\n",
              "    80% {\n",
              "      border-color: transparent;\n",
              "      border-right-color: var(--fill-color);\n",
              "      border-bottom-color: var(--fill-color);\n",
              "    }\n",
              "    90% {\n",
              "      border-color: transparent;\n",
              "      border-bottom-color: var(--fill-color);\n",
              "    }\n",
              "  }\n",
              "</style>\n",
              "\n",
              "  <script>\n",
              "    async function quickchart(key) {\n",
              "      const quickchartButtonEl =\n",
              "        document.querySelector('#' + key + ' button');\n",
              "      quickchartButtonEl.disabled = true;  // To prevent multiple clicks.\n",
              "      quickchartButtonEl.classList.add('colab-df-spinner');\n",
              "      try {\n",
              "        const charts = await google.colab.kernel.invokeFunction(\n",
              "            'suggestCharts', [key], {});\n",
              "      } catch (error) {\n",
              "        console.error('Error during call to suggestCharts:', error);\n",
              "      }\n",
              "      quickchartButtonEl.classList.remove('colab-df-spinner');\n",
              "      quickchartButtonEl.classList.add('colab-df-quickchart-complete');\n",
              "    }\n",
              "    (() => {\n",
              "      let quickchartButtonEl =\n",
              "        document.querySelector('#df-eab10b3f-b8a5-484e-9bb6-42751ca39990 button');\n",
              "      quickchartButtonEl.style.display =\n",
              "        google.colab.kernel.accessAllowed ? 'block' : 'none';\n",
              "    })();\n",
              "  </script>\n",
              "</div>\n",
              "\n",
              "    </div>\n",
              "  </div>\n"
            ],
            "application/vnd.google.colaboratory.intrinsic+json": {
              "type": "dataframe",
              "variable_name": "train_data"
            }
          },
          "metadata": {},
          "execution_count": 42
        }
      ]
    },
    {
      "cell_type": "code",
      "source": [
        "# Null 값 제거\n",
        "train_data = train_data.dropna(how='any')\n",
        "test_data = test_data.dropna(how='any')\n",
        "\n",
        "# 특수 문자 제거 및 단어로 쪼개기\n",
        "train_data['document'] = train_data['document'].str.replace(\"[^ㄱ-ㅎㅏ-ㅣ가-힣 ]\",\"\")\n",
        "train_data['document'] = [sentence.split(' ') for sentence in train_data['document']]\n",
        "test_data['document'] = test_data['document'].str.replace(\"[^ㄱ-ㅎㅏ-ㅣ가-힣 ]\",\"\")\n",
        "test_data['document'] = [sentence.split(' ') for sentence in test_data['document']]\n",
        "\n",
        "# 토큰화 및 패딩\n",
        "tokenizer = Tokenizer(num_words=20000)\n",
        "tokenizer.fit_on_texts(train_data['document'])\n",
        "\n",
        "X_train = tokenizer.texts_to_sequences(train_data['document'])\n",
        "X_test = tokenizer.texts_to_sequences(test_data['document'])\n",
        "\n",
        "y_train = np.array(train_data['label'])\n",
        "y_test = np.array(test_data['label'])"
      ],
      "metadata": {
        "colab": {
          "base_uri": "https://localhost:8080/"
        },
        "id": "aFepJmRVQdGC",
        "outputId": "ac9d6856-0f6a-4f2d-bae8-7034a9c7f8b3"
      },
      "execution_count": 43,
      "outputs": [
        {
          "output_type": "stream",
          "name": "stderr",
          "text": [
            "<ipython-input-43-20b8bb959da3>:6: SettingWithCopyWarning: \n",
            "A value is trying to be set on a copy of a slice from a DataFrame.\n",
            "Try using .loc[row_indexer,col_indexer] = value instead\n",
            "\n",
            "See the caveats in the documentation: https://pandas.pydata.org/pandas-docs/stable/user_guide/indexing.html#returning-a-view-versus-a-copy\n",
            "  train_data['document'] = train_data['document'].str.replace(\"[^ㄱ-ㅎㅏ-ㅣ가-힣 ]\",\"\")\n"
          ]
        }
      ]
    },
    {
      "cell_type": "code",
      "source": [
        "max_len = 25\n",
        "X_train = pad_sequences(X_train,padding='post', maxlen=max_len)\n",
        "X_test = pad_sequences(X_test,padding='post', maxlen=max_len)"
      ],
      "metadata": {
        "id": "ByD65wbbT6Jt"
      },
      "execution_count": null,
      "outputs": []
    },
    {
      "cell_type": "code",
      "source": [
        "print(X_train[:3])"
      ],
      "metadata": {
        "colab": {
          "base_uri": "https://localhost:8080/"
        },
        "id": "NToUjHgNVU2P",
        "outputId": "221ba402-3e71-45b0-e71a-b3876322323a"
      },
      "execution_count": null,
      "outputs": [
        {
          "output_type": "stream",
          "name": "stdout",
          "text": [
            "[[   50     4 10484  1064     0     0     0     0     0     0     0     0\n",
            "      0     0     0     0     0     0     0     0     0     0     0     0\n",
            "      0]\n",
            " [ 6403     0     0     0     0     0     0     0     0     0     0     0\n",
            "      0     0     0     0     0     0     0     0     0     0     0     0\n",
            "      0]\n",
            " [    0     0     0     0     0     0     0     0     0     0     0     0\n",
            "      0     0     0     0     0     0     0     0     0     0     0     0\n",
            "      0]]\n"
          ]
        }
      ]
    },
    {
      "cell_type": "code",
      "source": [
        "nlp_model = Sequential([\n",
        "    ## 1. 임베딩 벡터 input_dim=20000, output_dim = 300, input_length=max_len\n",
        "    ## 2. LSTM hidden layer 64개\n",
        "    ## 3. Dense 출력 1개, activation은 sigmoid\n",
        "])\n",
        "\n",
        "nlp_model.compile(optimizer='adam', loss='binary_crossentropy', metrics=['accuracy'])\n",
        "nlp_model.summary()"
      ],
      "metadata": {
        "colab": {
          "base_uri": "https://localhost:8080/"
        },
        "id": "IuzBl-JJQicN",
        "outputId": "79bae0c5-1b38-4458-fd80-f08e8bf80b63"
      },
      "execution_count": null,
      "outputs": [
        {
          "output_type": "stream",
          "name": "stdout",
          "text": [
            "Model: \"sequential_6\"\n",
            "_________________________________________________________________\n",
            " Layer (type)                Output Shape              Param #   \n",
            "=================================================================\n",
            " embedding (Embedding)       (None, 25, 300)           6000000   \n",
            "                                                                 \n",
            " lstm_4 (LSTM)               (None, 64)                93440     \n",
            "                                                                 \n",
            " dense_6 (Dense)             (None, 1)                 65        \n",
            "                                                                 \n",
            "=================================================================\n",
            "Total params: 6093505 (23.24 MB)\n",
            "Trainable params: 6093505 (23.24 MB)\n",
            "Non-trainable params: 0 (0.00 Byte)\n",
            "_________________________________________________________________\n"
          ]
        }
      ]
    },
    {
      "cell_type": "code",
      "source": [
        "nlp_history = nlp_model.fit(X_train, y_train, epochs=5, batch_size=64, validation_split=0.2)"
      ],
      "metadata": {
        "colab": {
          "base_uri": "https://localhost:8080/"
        },
        "id": "GF4LE0BEUAVL",
        "outputId": "f2943dae-87cc-42cc-aff9-1871fb6d6284"
      },
      "execution_count": null,
      "outputs": [
        {
          "output_type": "stream",
          "name": "stdout",
          "text": [
            "Epoch 1/5\n",
            "1875/1875 [==============================] - 50s 24ms/step - loss: 0.4854 - accuracy: 0.7439 - val_loss: 0.4332 - val_accuracy: 0.7828\n",
            "Epoch 2/5\n",
            "1875/1875 [==============================] - 17s 9ms/step - loss: 0.3736 - accuracy: 0.8098 - val_loss: 0.4342 - val_accuracy: 0.7849\n",
            "Epoch 3/5\n",
            "1875/1875 [==============================] - 16s 8ms/step - loss: 0.3175 - accuracy: 0.8333 - val_loss: 0.4706 - val_accuracy: 0.7784\n",
            "Epoch 4/5\n",
            "1875/1875 [==============================] - 15s 8ms/step - loss: 0.2752 - accuracy: 0.8515 - val_loss: 0.5298 - val_accuracy: 0.7695\n",
            "Epoch 5/5\n",
            "1875/1875 [==============================] - 15s 8ms/step - loss: 0.2401 - accuracy: 0.8675 - val_loss: 0.5783 - val_accuracy: 0.7693\n"
          ]
        }
      ]
    },
    {
      "cell_type": "code",
      "source": [
        "test_loss, test_acc = nlp_model.evaluate(X_test, y_test)\n",
        "print(f'Test Accuracy: {test_acc:.4f}')"
      ],
      "metadata": {
        "colab": {
          "base_uri": "https://localhost:8080/"
        },
        "id": "8jAaeVIlQlaP",
        "outputId": "67523123-40c8-429f-ebba-58af75fbdc68"
      },
      "execution_count": null,
      "outputs": [
        {
          "output_type": "stream",
          "name": "stdout",
          "text": [
            "1563/1563 [==============================] - 6s 4ms/step - loss: 0.5869 - accuracy: 0.7600\n",
            "Test Accuracy: 0.7600\n"
          ]
        }
      ]
    },
    {
      "cell_type": "code",
      "source": [
        "test_sentence = '재밌다가 나중엔 너무 졸리고 지루했다'\n",
        "# test_sentence = '지루할 줄 알았는데 너무 재밌었다'\n",
        "\n",
        "test_sentence = test_sentence.split(' ')\n",
        "test_sentences =[]\n",
        "now_sentence = []\n",
        "for word in test_sentence:\n",
        "    now_sentence.append(word)\n",
        "    test_sentences.append(now_sentence[:])\n",
        "\n",
        "test_X_1 = tokenizer.texts_to_sequences(test_sentences)\n",
        "test_X_1 = pad_sequences(test_X_1, padding = 'post', maxlen=max_len)\n",
        "prediction = nlp_model.predict(test_X_1)\n",
        "for idx, sentence in enumerate(test_sentences):\n",
        "    print(sentence)\n",
        "    print(prediction[idx])"
      ],
      "metadata": {
        "colab": {
          "base_uri": "https://localhost:8080/"
        },
        "id": "EtEzRdixRFQ2",
        "outputId": "8c07c2ab-30df-4c7f-962f-649f7fd70e3d"
      },
      "execution_count": null,
      "outputs": [
        {
          "output_type": "stream",
          "name": "stdout",
          "text": [
            "1/1 [==============================] - 0s 37ms/step\n",
            "['재밌다가']\n",
            "[0.48243514]\n",
            "['재밌다가', '나중엔']\n",
            "[0.44020212]\n",
            "['재밌다가', '나중엔', '너무']\n",
            "[0.45340818]\n",
            "['재밌다가', '나중엔', '너무', '졸리고']\n",
            "[0.5175926]\n",
            "['재밌다가', '나중엔', '너무', '졸리고', '지루했다']\n",
            "[0.0011311]\n"
          ]
        }
      ]
    }
  ]
}